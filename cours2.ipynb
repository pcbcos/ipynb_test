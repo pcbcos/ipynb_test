{
 "cells": [
  {
   "cell_type": "markdown",
   "metadata": {},
   "source": [
    "# Functions"
   ]
  },
  {
   "cell_type": "markdown",
   "metadata": {},
   "source": [
    "In Python, functions are defined using the keyword ``def``. The general syntax is:\n",
    "\n",
    "```python\n",
    "    def <function_name>(<arguments>):\n",
    "        <statements>                     # the function body\n",
    "```\n",
    "\n",
    "*Don't forget about the colon and the indentation!*\n",
    "\n",
    "To call a function, use ``function_name(arguments)``."
   ]
  },
  {
   "cell_type": "code",
   "execution_count": null,
   "metadata": {},
   "outputs": [],
   "source": [
    "def printAge(age):                        # function name: printAge; argument: age\n",
    "    print('You are', age, 'years old.')     # the function body\n",
    "\n",
    "\n",
    "printAge(20)                              # calling the function for age = 20"
   ]
  },
  {
   "cell_type": "markdown",
   "metadata": {},
   "source": [
    "A function can have no argument, or several arguments."
   ]
  },
  {
   "cell_type": "code",
   "execution_count": null,
   "metadata": {},
   "outputs": [],
   "source": [
    "def hello():\n",
    "    print(\"Hello, world!\")\n",
    "\n",
    "\n",
    "def hello2(firstName, lastName):\n",
    "    print(\"Your name is\", firstName, lastName)\n",
    "\n",
    "\n",
    "hello()\n",
    "hello2(\"Jean\", \"Dujardin\")"
   ]
  },
  {
   "cell_type": "markdown",
   "metadata": {},
   "source": [
    "<font color='red' size=\"+1\">**!!! In your codes, you should use functions. It makes the code easier to read, easier to debug and easier to reuse !!!**</font>"
   ]
  },
  {
   "cell_type": "markdown",
   "metadata": {},
   "source": [
    "## ``Return`` statement"
   ]
  },
  {
   "cell_type": "markdown",
   "metadata": {},
   "source": [
    "The ``return`` statement is used in the body function to *return* something when calling the function.\n",
    "\n",
    "You can put whatever the function returns in a variable."
   ]
  },
  {
   "cell_type": "code",
   "execution_count": null,
   "metadata": {},
   "outputs": [],
   "source": [
    "def add(a, b):\n",
    "    return(a + b)  # the function returns a + b\n",
    "\n",
    "\n",
    "# the variable S corresponds to the return of the function for a=2 and b=5\n",
    "S = add(2, 5)\n",
    "S"
   ]
  },
  {
   "cell_type": "markdown",
   "metadata": {},
   "source": [
    "A function with no ``return`` statement will return a ``None`` objet. "
   ]
  },
  {
   "cell_type": "code",
   "execution_count": null,
   "metadata": {},
   "outputs": [],
   "source": [
    "def doNothing():\n",
    "    print('I do nothing!')\n",
    "\n",
    "\n",
    "A = doNothing()\n",
    "print(A)\n",
    "print(type(A))"
   ]
  },
  {
   "cell_type": "code",
   "execution_count": null,
   "metadata": {},
   "outputs": [],
   "source": [
    "A"
   ]
  },
  {
   "cell_type": "markdown",
   "metadata": {},
   "source": [
    "A function can contain more than one ``return`` statement but the function evaluation will stop after the first return is encountered."
   ]
  },
  {
   "cell_type": "code",
   "execution_count": null,
   "metadata": {},
   "outputs": [],
   "source": [
    "def isMajor(age):\n",
    "    if age < 18:\n",
    "        return(False)\n",
    "    else:\n",
    "        return(True)\n",
    "    return(\"This return will never be used\")\n",
    "\n",
    "\n",
    "print(isMajor(16))\n",
    "print(isMajor(21))"
   ]
  },
  {
   "cell_type": "markdown",
   "metadata": {},
   "source": [
    "A function can return more than one object. "
   ]
  },
  {
   "cell_type": "code",
   "execution_count": null,
   "metadata": {},
   "outputs": [],
   "source": [
    "def plusTimes(a, b):\n",
    "    s = a+b\n",
    "    p = a*b\n",
    "    return(s, p)\n",
    "\n",
    "\n",
    "a, b = plusTimes(3, 5)\n",
    "print(a)\n",
    "print(b)\n",
    "a, b"
   ]
  },
  {
   "cell_type": "markdown",
   "metadata": {},
   "source": [
    "<font color='red' size='+1'>**!!! Use return statements in your functions because you can reuse the results elsewhere. Using print() only displays the results !!!**</font>"
   ]
  },
  {
   "cell_type": "markdown",
   "metadata": {},
   "source": [
    "## Local and global variables"
   ]
  },
  {
   "cell_type": "markdown",
   "metadata": {},
   "source": [
    "Variables defined inside a body function are called *local variables*. It means that they are not defined outside the body function."
   ]
  },
  {
   "cell_type": "markdown",
   "metadata": {},
   "source": [
    "If a variable ``var`` is defined outside a body function, the function can use it (global variable). It can also modify it, but ``var`` will be modified only inside the body function.\n",
    "\n",
    "To be more precise, it creates a different local variable inside the body function also named ``var``."
   ]
  },
  {
   "cell_type": "code",
   "execution_count": null,
   "metadata": {},
   "outputs": [],
   "source": [
    "pi = 3.1515926       # an approximation of pi\n",
    "\n",
    "\n",
    "def perimeter(r):\n",
    "    print('In perimeter, pi=', pi)\n",
    "    return(2*pi*r)    # pi is a global variable here\n",
    "\n",
    "\n",
    "def perimeter2(r):\n",
    "    pi = 3           # pi becomes a local variable here\n",
    "    print('In perimeterpi2, pi=', pi)\n",
    "    return(2*pi*r)\n",
    "\n",
    "\n",
    "p1 = perimeter(3)\n",
    "p2 = perimeter2(3)\n",
    "print(p1, p2, pi)"
   ]
  },
  {
   "cell_type": "markdown",
   "metadata": {},
   "source": [
    "<font color='red' size='+1'>**!!! You should avoid using global variables as much as possible, it is easier to debug and you can reuse your functions in other codes !!!**</font>"
   ]
  },
  {
   "cell_type": "markdown",
   "metadata": {},
   "source": [
    "# Now it is your turn!"
   ]
  },
  {
   "cell_type": "markdown",
   "metadata": {},
   "source": [
    "**Exercise 1.** Write a function ``polynomial(x)`` that takes a number $x$ and returns $5x^2-2x+4$. Test it for $x = 2$, $x=0$ and $x=-1$."
   ]
  },
  {
   "cell_type": "code",
   "execution_count": null,
   "metadata": {},
   "outputs": [],
   "source": []
  },
  {
   "cell_type": "markdown",
   "metadata": {},
   "source": [
    "**Exercise 2.** Write a function ``myMax(a, b)`` that takes two numbers $a$ and $b$ and return the largest number. Test it on (9,17), (4,3) and (2,2)."
   ]
  },
  {
   "cell_type": "code",
   "execution_count": null,
   "metadata": {},
   "outputs": [],
   "source": []
  },
  {
   "cell_type": "markdown",
   "metadata": {},
   "source": [
    "**Exercise 3.**  \n",
    "\n",
    "1) Write a function ``mean(x, y)`` that takes two numbers $x$ and $y$ and returns the mean of $x$ and $y$. \n",
    "\n",
    "2) Write a function ``midpoint(xA, yA, xB, yB)`` that takes takes four numbers $x_A$, $y_A$, $x_B$ and $y_B$ and return the two coordinates $x_I$ and $y_I$ of the midpoint $I$ of the segment $[A,B]$, where $A=(x_A,y_A)$ and $B=(x_B,y_B)$. It must use the ``mean`` function.\n",
    "\n",
    "3) Test it on $A = (2,3)$ and $B=(-1,-3)$."
   ]
  },
  {
   "cell_type": "code",
   "execution_count": null,
   "metadata": {},
   "outputs": [],
   "source": []
  },
  {
   "cell_type": "markdown",
   "metadata": {},
   "source": [
    "**Exercise 4.** A photocopy shop offers the following price: the first 20 photocopies cost 0.10 euros each and the next cost 0.08 euros each. Write a function ``totalAmount(m)`` that takes a number $m$ and returns the total cost of $m$ photocopies. Test it for $m = 15$ and $m = 35$."
   ]
  },
  {
   "cell_type": "code",
   "execution_count": null,
   "metadata": {},
   "outputs": [],
   "source": []
  },
  {
   "cell_type": "markdown",
   "metadata": {},
   "source": [
    "**Exercise 5.** One gives you below the function ``isVowel(c)`` that checks if a string ``c`` is a wovel, that is to say if it is *a*, *e*, *i*, *o* or *u*. Write a function ``vowels(S)``  that takes a string $S$ and returns how many vowels are in $S$. Test it on ``'Hello, I am a student of SPEIT.'``, ``'rhythm'``, ``'13579'`` and the empty string ``''``. How to use `string`? It's easy!"
   ]
  },
  {
   "cell_type": "code",
   "execution_count": null,
   "metadata": {},
   "outputs": [],
   "source": [
    "s = \"Hello!\"\n",
    "for c in s:\n",
    "    print(c, end=' ')"
   ]
  },
  {
   "cell_type": "code",
   "execution_count": null,
   "metadata": {
    "editable": false,
    "run_control": {
     "marked": true
    }
   },
   "outputs": [],
   "source": [
    "def isVowel(c):    # do not modify this function!\n",
    "    return(c in ['a', 'e', 'i', 'o', 'u', 'A', 'E', 'I', 'O', 'U'])"
   ]
  },
  {
   "cell_type": "markdown",
   "metadata": {},
   "source": [
    "# Recursive functions"
   ]
  },
  {
   "cell_type": "markdown",
   "metadata": {},
   "source": [
    "Recursion is a method of programming for which a function calls itself one or several times.\n",
    "\n",
    "A recursive function has to fulfill an important condition : it has to terminate!\n",
    "\n",
    "The factorial $n!$ of an nonnegative integer $n$ is defined as: \n",
    "$$\\forall n\\in\\mathbb N,~n!=\n",
    "\\begin{cases}\n",
    "1 &\\text{if }n=0\\\\\n",
    "n\\times (n-1)! &\\text{if }n>0.\n",
    "\\end{cases}\n",
    "$$\n",
    "\n",
    "This mathematical function is recursive. Therefore is quite natural to code the factorial function in Python as a recursive function. "
   ]
  },
  {
   "cell_type": "code",
   "execution_count": null,
   "metadata": {},
   "outputs": [],
   "source": [
    "def factorial(n):\n",
    "    if n == 0:\n",
    "        return(1)\n",
    "    else:\n",
    "        return(n*factorial(n-1))\n",
    "\n",
    "\n",
    "factorial(5)"
   ]
  },
  {
   "cell_type": "markdown",
   "metadata": {},
   "source": [
    "We can track how the function works by printing some informations for each call of the function."
   ]
  },
  {
   "cell_type": "code",
   "execution_count": null,
   "metadata": {},
   "outputs": [],
   "source": [
    "def factorial2(n):\n",
    "    if n == 0:\n",
    "        print('factorial2 has been called! n =',\n",
    "              n, ', intermediate result =', 1)\n",
    "        return(1)\n",
    "    else:\n",
    "        res = n*factorial2(n-1)\n",
    "        print('factorial2 has been called! n =',\n",
    "              n, ', intermediate result =', res)\n",
    "        return(res)\n",
    "\n",
    "\n",
    "factorial2(5)"
   ]
  },
  {
   "cell_type": "markdown",
   "metadata": {},
   "source": [
    "## It's your turn again !"
   ]
  },
  {
   "cell_type": "markdown",
   "metadata": {},
   "source": [
    "**Exercise 6.** Write an iterative version (i.e. with no recursion but with a ``for`` loop) of the factorial. Name it ``factorial3(n)``. Print the factorial of all the integers between 0 and 10."
   ]
  },
  {
   "cell_type": "code",
   "execution_count": null,
   "metadata": {},
   "outputs": [],
   "source": []
  },
  {
   "cell_type": "markdown",
   "metadata": {},
   "source": [
    "**Exercise 7.** We define the Fibonacci sequence $(F_n)_{n \\in \\mathbb N}$ as follows:\n",
    "$$\\forall n\\in\\mathbb N,\\ F_n=\n",
    "\\begin{cases}\n",
    "0 &\\text{if }n=0\\\\\n",
    "1 &\\text{if }n=1\\\\\n",
    "F_{n-2}+F_{n-1}&\\text{if }n \\geq 2.\n",
    "\\end{cases}\n",
    "$$\n",
    "\n",
    "Write a recursive function ``FibonacciRecursive(n)`` that returns the $n$-th Fibonacci number $F_n$. Print the first 10 Fibonacci numbers."
   ]
  },
  {
   "cell_type": "code",
   "execution_count": null,
   "metadata": {},
   "outputs": [],
   "source": []
  },
  {
   "cell_type": "markdown",
   "metadata": {},
   "source": [
    "**Exercise 8.** Write an iterative function ``FibonacciIterative(n)`` that returns the $n$-th Fibonacci number $F_n$. Print the first 10 Fibonacci numbers."
   ]
  },
  {
   "cell_type": "code",
   "execution_count": null,
   "metadata": {},
   "outputs": [],
   "source": []
  },
  {
   "cell_type": "markdown",
   "metadata": {},
   "source": [
    "**Exercise 9.** \n",
    "\n",
    "1) To measure how long the execution of a given function ``f`` takes, we can use the following script:\n",
    "\n",
    "```Python\n",
    "import time\n",
    "\n",
    "initialTime = time.time()\n",
    "f()\n",
    "finalTime = time.time()\n",
    "print('The execution took', finalTime - initialTime, 'seconds.')\n",
    "```\n",
    "\n",
    "Use it for ``FibonacciRecursive(35)``, then for ``FibonacciIterative(35)``. What do you notice? Can you explain why?"
   ]
  },
  {
   "cell_type": "code",
   "execution_count": null,
   "metadata": {},
   "outputs": [],
   "source": []
  },
  {
   "cell_type": "markdown",
   "metadata": {},
   "source": [
    "2) This modified function ``FibonacciRecursive2(n)`` returns the $n$-th Fibonnaci number using recursive programming and how many time the function has been called. Test it for $n$ between 0 and 35. What do you notice?"
   ]
  },
  {
   "cell_type": "code",
   "execution_count": null,
   "metadata": {},
   "outputs": [],
   "source": [
    "def FibonacciRecursive2(n):\n",
    "    if n == 0:\n",
    "        return 0, 1\n",
    "    elif n == 1:\n",
    "        return(1, 1)\n",
    "    else:\n",
    "        a, b = FibonacciRecursive2(n-2), FibonacciRecursive2(n-1)\n",
    "        return(a[0]+b[0], a[1]+b[1]+1)"
   ]
  },
  {
   "cell_type": "markdown",
   "metadata": {},
   "source": [
    "## To go further"
   ]
  },
  {
   "cell_type": "markdown",
   "metadata": {},
   "source": [
    "These are additional exercises. You can do them in the order you want."
   ]
  },
  {
   "cell_type": "markdown",
   "metadata": {},
   "source": [
    "**Exercise 10.** A positive integer $n$ is called a *prime number* if its only divisors are 1 and $n$. For instance, $6$ is not a prime number because $6 = 2 \\times 3$ but 5 and 7 are. By convention, 1 is not a primer number. \n",
    "\n",
    "1) Write a function ``isPrime(n)`` that takes a positive integer $n$ and returns ``True`` if $n$ is a prime number and ``False`` if $n$ is not a prime number. \n",
    "\n",
    "2) Test it for $n=1$, $n=2$, $n=6$ and $n = 7$. \n",
    "\n",
    "3) Print the first 20 prime numbers."
   ]
  },
  {
   "cell_type": "code",
   "execution_count": null,
   "metadata": {
    "scrolled": true
   },
   "outputs": [],
   "source": []
  },
  {
   "cell_type": "markdown",
   "metadata": {},
   "source": [
    "**Exercice 11.** We want to play the rock–paper–scissors game (石头、剪子、布) against the computer.\n",
    "\n",
    "1) Write a function ``game()`` that ask the user to enter ``rock'``, ``'paper'`` or ``'scissors'``, choose randomly what the computer plays (between  ``rock'``, ``'paper'`` and ``'scissors'``) and returns 1 if the user wins, 0 if is a draw and -1 if the computer wins. It should also print the result of the game.\n",
    "\n",
    "*Hint: for randomness, you need first to import the random librairy using ``import random``, then you can use ``random.randint(a,b)`` to randomly get an integer between a and b.* \n",
    "\n",
    "2) Write a function ``bestOf(n)`` that takes an positive integer $n$, and plays rock–paper–scissors games until the humain player wins $n$ games or the computer does. The function should keep track of the score during the games.\n"
   ]
  },
  {
   "cell_type": "code",
   "execution_count": null,
   "metadata": {},
   "outputs": [],
   "source": [
    "import random\n",
    "\n",
    "random.randint(1, 10)"
   ]
  }
 ],
 "metadata": {
  "hide_input": false,
  "kernelspec": {
   "display_name": "Python 3",
   "language": "python",
   "name": "python3"
  },
  "language_info": {
   "codemirror_mode": {
    "name": "ipython",
    "version": 3
   },
   "file_extension": ".py",
   "mimetype": "text/x-python",
   "name": "python",
   "nbconvert_exporter": "python",
   "pygments_lexer": "ipython3",
   "version": "3.8.1"
  },
  "toc": {
   "colors": {
    "hover_highlight": "#DAA520",
    "navigate_num": "#000000",
    "navigate_text": "#333333",
    "running_highlight": "#FF0000",
    "selected_highlight": "#FFD700",
    "sidebar_border": "#EEEEEE",
    "wrapper_background": "#FFFFFF"
   },
   "moveMenuLeft": true,
   "nav_menu": {
    "height": "31px",
    "width": "252px"
   },
   "navigate_menu": true,
   "number_sections": true,
   "sideBar": true,
   "threshold": 4,
   "toc_cell": false,
   "toc_section_display": "block",
   "toc_window_display": false,
   "widenNotebook": false
  }
 },
 "nbformat": 4,
 "nbformat_minor": 2
}
